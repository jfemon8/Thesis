{
  "nbformat": 4,
  "nbformat_minor": 0,
  "metadata": {
    "colab": {
      "provenance": []
    },
    "kernelspec": {
      "name": "python3",
      "display_name": "Python 3"
    },
    "language_info": {
      "name": "python"
    }
  },
  "cells": [
    {
      "cell_type": "code",
      "execution_count": null,
      "metadata": {
        "colab": {
          "base_uri": "https://localhost:8080/"
        },
        "id": "SipCvlVLKE22",
        "outputId": "4de1a628-7aa3-48f7-feba-5b33a978ca35"
      },
      "outputs": [
        {
          "output_type": "stream",
          "name": "stdout",
          "text": [
            "Modified dataset saved as normalized_dataset.csv\n"
          ]
        }
      ],
      "source": [
        "import pandas as pd\n",
        "from sklearn.preprocessing import MinMaxScaler\n",
        "\n",
        "file_name = '/content/drive/MyDrive/Colab Notebooks/ML Dataset/Python_LargeClassSmell_Dataset.csv'\n",
        "df = pd.read_csv(file_name)\n",
        "\n",
        "X = df.iloc[:, :-1]\n",
        "Y = df.iloc[:, -1]\n",
        "\n",
        "scaler = MinMaxScaler()\n",
        "X_scaled = scaler.fit_transform(X)\n",
        "\n",
        "df_scaled = pd.DataFrame(X_scaled, columns=X.columns)\n",
        "df_scaled['Target'] = Y\n",
        "\n",
        "modified_file_name = 'Python_LargeClassSmell_Dataset_Normalized.csv'\n",
        "df_scaled.to_csv(modified_file_name, index=False)\n",
        "\n",
        "print(f\"Modified dataset saved as {modified_file_name}\")\n"
      ]
    },
    {
      "cell_type": "code",
      "source": [
        "import pandas as pd\n",
        "from sklearn.preprocessing import MinMaxScaler\n",
        "\n",
        "file_name = '/content/drive/MyDrive/Colab Notebooks/ML Dataset/Python_LongMethodSmell_Dataset.csv'\n",
        "df = pd.read_csv(file_name)\n",
        "\n",
        "X = df.iloc[:, :-1]\n",
        "Y = df.iloc[:, -1]\n",
        "\n",
        "scaler = MinMaxScaler()\n",
        "X_scaled = scaler.fit_transform(X)\n",
        "\n",
        "df_scaled = pd.DataFrame(X_scaled, columns=X.columns)\n",
        "df_scaled['Target'] = Y\n",
        "\n",
        "modified_file_name = 'Python_LongMethodSmell_Dataset_Normalized.csv'\n",
        "df_scaled.to_csv(modified_file_name, index=False)\n",
        "\n",
        "print(f\"Modified dataset saved as {modified_file_name}\")\n"
      ],
      "metadata": {
        "colab": {
          "base_uri": "https://localhost:8080/"
        },
        "id": "jODpk7sAKaAk",
        "outputId": "31f5d351-5f8f-48e3-c737-6d99ba39cee8"
      },
      "execution_count": null,
      "outputs": [
        {
          "output_type": "stream",
          "name": "stdout",
          "text": [
            "Modified dataset saved as long_normalized_dataset.csv\n"
          ]
        }
      ]
    },
    {
      "cell_type": "code",
      "source": [],
      "metadata": {
        "id": "yvaH-96fLL0-"
      },
      "execution_count": null,
      "outputs": []
    }
  ]
}