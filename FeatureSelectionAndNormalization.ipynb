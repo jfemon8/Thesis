{
  "nbformat": 4,
  "nbformat_minor": 0,
  "metadata": {
    "colab": {
      "provenance": []
    },
    "kernelspec": {
      "name": "python3",
      "display_name": "Python 3"
    },
    "language_info": {
      "name": "python"
    }
  },
  "cells": [
    {
      "cell_type": "code",
      "execution_count": 1,
      "metadata": {
        "id": "LvgQu0XWii92"
      },
      "outputs": [],
      "source": [
        "import pandas as pd\n",
        "import numpy as np\n",
        "from sklearn.preprocessing import MinMaxScaler\n",
        "from sklearn.feature_selection import mutual_info_classif\n",
        "\n",
        "def calculate_gain_ratio(X, y):\n",
        "    \"\"\"\n",
        "    Calculate the Gain Ratio for each feature.\n",
        "    \"\"\"\n",
        "    info_gain = mutual_info_classif(X, y)\n",
        "    intrinsic_value = -np.sum(X * np.log2(X + 1e-9), axis=0)\n",
        "    gain_ratio = info_gain / (intrinsic_value + 1e-9)\n",
        "    return gain_ratio"
      ]
    },
    {
      "cell_type": "code",
      "source": [
        "dataset = pd.read_csv('/content/drive/MyDrive/Colab Notebooks/ML Dataset/Python_LargeClassSmell_Dataset.csv')\n",
        "X = dataset.iloc[:, :-1]\n",
        "y = dataset.iloc[:, -1]\n",
        "\n",
        "gain_ratio = calculate_gain_ratio(X.values, y)\n",
        "features_gain_ratio = pd.DataFrame({'Feature': X.columns, 'Gain_Ratio': gain_ratio})\n",
        "\n",
        "average_gain_ratio = gain_ratio.mean()\n",
        "selected_features = features_gain_ratio[features_gain_ratio['Gain_Ratio'] >= average_gain_ratio]\n",
        "X_selected = X[selected_features['Feature'].values]\n",
        "\n",
        "scaler = MinMaxScaler()\n",
        "X_scaled = scaler.fit_transform(X_selected)\n",
        "X_scaled_df = pd.DataFrame(X_scaled, columns=selected_features['Feature'].values)\n",
        "\n",
        "X_scaled_df['target'] = y.values\n",
        "X_scaled_df.to_csv('Python_LargeClassSmell_Dataset_NormalizedAndGainRatio.csv', index=False)\n",
        "print(\"Scaled dataset saved as 'Python_LargeClassSmell_Dataset_NormalizedAndGainRatio.csv'\")"
      ],
      "metadata": {
        "id": "TV3xmFeRkO8R"
      },
      "execution_count": null,
      "outputs": []
    },
    {
      "cell_type": "code",
      "source": [
        "dataset = pd.read_csv('/content/drive/MyDrive/Colab Notebooks/ML Dataset/Python_LongMethodSmell_Dataset.csv')\n",
        "X = dataset.iloc[:, :-1]\n",
        "y = dataset.iloc[:, -1]\n",
        "\n",
        "gain_ratio = calculate_gain_ratio(X.values, y)\n",
        "features_gain_ratio = pd.DataFrame({'Feature': X.columns, 'Gain_Ratio': gain_ratio})\n",
        "\n",
        "average_gain_ratio = gain_ratio.mean()\n",
        "selected_features = features_gain_ratio[features_gain_ratio['Gain_Ratio'] >= average_gain_ratio]\n",
        "X_selected = X[selected_features['Feature'].values]\n",
        "\n",
        "scaler = MinMaxScaler()\n",
        "X_scaled = scaler.fit_transform(X_selected)\n",
        "X_scaled_df = pd.DataFrame(X_scaled, columns=selected_features['Feature'].values)\n",
        "\n",
        "X_scaled_df['target'] = y.values\n",
        "X_scaled_df.to_csv('Python_LongMethodSmell_Dataset_NormalizedAndGainRatio.csv', index=False)\n",
        "print(\"Scaled dataset saved as 'Python_LongMethodSmell_Dataset_NormalizedAndGainRatio.csv'\")"
      ],
      "metadata": {
        "id": "qetiMM2SlfQQ"
      },
      "execution_count": null,
      "outputs": []
    },
    {
      "cell_type": "code",
      "source": [],
      "metadata": {
        "id": "UAvPEGPNlwe5"
      },
      "execution_count": null,
      "outputs": []
    }
  ]
}